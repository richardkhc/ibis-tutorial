{
 "cells": [
  {
   "cell_type": "code",
   "execution_count": 1,
   "id": "9abfa4ff",
   "metadata": {},
   "outputs": [],
   "source": [
    "import ibis\n",
    "\n",
    "con = ibis.connect(\"duckdb://penguins.ddb\")\n",
    "\n",
    "ibis.options.interactive = True"
   ]
  },
  {
   "cell_type": "markdown",
   "id": "13f589b5",
   "metadata": {},
   "source": [
    "# Create table"
   ]
  },
  {
   "cell_type": "code",
   "execution_count": 2,
   "id": "10994f62",
   "metadata": {},
   "outputs": [
    {
     "data": {
      "text/html": [
       "<pre style=\"white-space:pre;overflow-x:auto;line-height:normal;font-family:Menlo,'DejaVu Sans Mono',consolas,'Courier New',monospace\">┏━━━━━━━━━┳━━━━━━━━━━━┳━━━━━━━━━━━━━━━━┳━━━━━━━━━━━━━━━┳━━━━━━━━━━━━━━━━━━━┳━━━━━━━━━━━━━┳━━━━━━━━┳━━━━━━━┓\n",
       "┃<span style=\"font-weight: bold\"> species </span>┃<span style=\"font-weight: bold\"> island    </span>┃<span style=\"font-weight: bold\"> bill_length_mm </span>┃<span style=\"font-weight: bold\"> bill_depth_mm </span>┃<span style=\"font-weight: bold\"> flipper_length_mm </span>┃<span style=\"font-weight: bold\"> body_mass_g </span>┃<span style=\"font-weight: bold\"> sex    </span>┃<span style=\"font-weight: bold\"> year  </span>┃\n",
       "┡━━━━━━━━━╇━━━━━━━━━━━╇━━━━━━━━━━━━━━━━╇━━━━━━━━━━━━━━━╇━━━━━━━━━━━━━━━━━━━╇━━━━━━━━━━━━━╇━━━━━━━━╇━━━━━━━┩\n",
       "│ <span style=\"color: #7f7f7f; text-decoration-color: #7f7f7f\">string</span>  │ <span style=\"color: #7f7f7f; text-decoration-color: #7f7f7f\">string</span>    │ <span style=\"color: #7f7f7f; text-decoration-color: #7f7f7f\">float64</span>        │ <span style=\"color: #7f7f7f; text-decoration-color: #7f7f7f\">float64</span>       │ <span style=\"color: #7f7f7f; text-decoration-color: #7f7f7f\">int64</span>             │ <span style=\"color: #7f7f7f; text-decoration-color: #7f7f7f\">int64</span>       │ <span style=\"color: #7f7f7f; text-decoration-color: #7f7f7f\">string</span> │ <span style=\"color: #7f7f7f; text-decoration-color: #7f7f7f\">int64</span> │\n",
       "├─────────┼───────────┼────────────────┼───────────────┼───────────────────┼─────────────┼────────┼───────┤\n",
       "│ <span style=\"color: #008000; text-decoration-color: #008000\">Adelie </span> │ <span style=\"color: #008000; text-decoration-color: #008000\">Torgersen</span> │           <span style=\"color: #008080; text-decoration-color: #008080; font-weight: bold\">39.1</span> │          <span style=\"color: #008080; text-decoration-color: #008080; font-weight: bold\">18.7</span> │               <span style=\"color: #008080; text-decoration-color: #008080; font-weight: bold\">181</span> │        <span style=\"color: #008080; text-decoration-color: #008080; font-weight: bold\">3750</span> │ <span style=\"color: #008000; text-decoration-color: #008000\">male  </span> │  <span style=\"color: #008080; text-decoration-color: #008080; font-weight: bold\">2007</span> │\n",
       "│ <span style=\"color: #008000; text-decoration-color: #008000\">Adelie </span> │ <span style=\"color: #008000; text-decoration-color: #008000\">Torgersen</span> │           <span style=\"color: #008080; text-decoration-color: #008080; font-weight: bold\">39.5</span> │          <span style=\"color: #008080; text-decoration-color: #008080; font-weight: bold\">17.4</span> │               <span style=\"color: #008080; text-decoration-color: #008080; font-weight: bold\">186</span> │        <span style=\"color: #008080; text-decoration-color: #008080; font-weight: bold\">3800</span> │ <span style=\"color: #008000; text-decoration-color: #008000\">female</span> │  <span style=\"color: #008080; text-decoration-color: #008080; font-weight: bold\">2007</span> │\n",
       "│ <span style=\"color: #008000; text-decoration-color: #008000\">Adelie </span> │ <span style=\"color: #008000; text-decoration-color: #008000\">Torgersen</span> │           <span style=\"color: #008080; text-decoration-color: #008080; font-weight: bold\">40.3</span> │          <span style=\"color: #008080; text-decoration-color: #008080; font-weight: bold\">18.0</span> │               <span style=\"color: #008080; text-decoration-color: #008080; font-weight: bold\">195</span> │        <span style=\"color: #008080; text-decoration-color: #008080; font-weight: bold\">3250</span> │ <span style=\"color: #008000; text-decoration-color: #008000\">female</span> │  <span style=\"color: #008080; text-decoration-color: #008080; font-weight: bold\">2007</span> │\n",
       "│ <span style=\"color: #008000; text-decoration-color: #008000\">Adelie </span> │ <span style=\"color: #008000; text-decoration-color: #008000\">Torgersen</span> │           <span style=\"color: #7f7f7f; text-decoration-color: #7f7f7f\">NULL</span> │          <span style=\"color: #7f7f7f; text-decoration-color: #7f7f7f\">NULL</span> │              <span style=\"color: #7f7f7f; text-decoration-color: #7f7f7f\">NULL</span> │        <span style=\"color: #7f7f7f; text-decoration-color: #7f7f7f\">NULL</span> │ <span style=\"color: #7f7f7f; text-decoration-color: #7f7f7f\">NULL</span>   │  <span style=\"color: #008080; text-decoration-color: #008080; font-weight: bold\">2007</span> │\n",
       "│ <span style=\"color: #008000; text-decoration-color: #008000\">Adelie </span> │ <span style=\"color: #008000; text-decoration-color: #008000\">Torgersen</span> │           <span style=\"color: #008080; text-decoration-color: #008080; font-weight: bold\">36.7</span> │          <span style=\"color: #008080; text-decoration-color: #008080; font-weight: bold\">19.3</span> │               <span style=\"color: #008080; text-decoration-color: #008080; font-weight: bold\">193</span> │        <span style=\"color: #008080; text-decoration-color: #008080; font-weight: bold\">3450</span> │ <span style=\"color: #008000; text-decoration-color: #008000\">female</span> │  <span style=\"color: #008080; text-decoration-color: #008080; font-weight: bold\">2007</span> │\n",
       "│ <span style=\"color: #008000; text-decoration-color: #008000\">Adelie </span> │ <span style=\"color: #008000; text-decoration-color: #008000\">Torgersen</span> │           <span style=\"color: #008080; text-decoration-color: #008080; font-weight: bold\">39.3</span> │          <span style=\"color: #008080; text-decoration-color: #008080; font-weight: bold\">20.6</span> │               <span style=\"color: #008080; text-decoration-color: #008080; font-weight: bold\">190</span> │        <span style=\"color: #008080; text-decoration-color: #008080; font-weight: bold\">3650</span> │ <span style=\"color: #008000; text-decoration-color: #008000\">male  </span> │  <span style=\"color: #008080; text-decoration-color: #008080; font-weight: bold\">2007</span> │\n",
       "│ <span style=\"color: #008000; text-decoration-color: #008000\">Adelie </span> │ <span style=\"color: #008000; text-decoration-color: #008000\">Torgersen</span> │           <span style=\"color: #008080; text-decoration-color: #008080; font-weight: bold\">38.9</span> │          <span style=\"color: #008080; text-decoration-color: #008080; font-weight: bold\">17.8</span> │               <span style=\"color: #008080; text-decoration-color: #008080; font-weight: bold\">181</span> │        <span style=\"color: #008080; text-decoration-color: #008080; font-weight: bold\">3625</span> │ <span style=\"color: #008000; text-decoration-color: #008000\">female</span> │  <span style=\"color: #008080; text-decoration-color: #008080; font-weight: bold\">2007</span> │\n",
       "│ <span style=\"color: #008000; text-decoration-color: #008000\">Adelie </span> │ <span style=\"color: #008000; text-decoration-color: #008000\">Torgersen</span> │           <span style=\"color: #008080; text-decoration-color: #008080; font-weight: bold\">39.2</span> │          <span style=\"color: #008080; text-decoration-color: #008080; font-weight: bold\">19.6</span> │               <span style=\"color: #008080; text-decoration-color: #008080; font-weight: bold\">195</span> │        <span style=\"color: #008080; text-decoration-color: #008080; font-weight: bold\">4675</span> │ <span style=\"color: #008000; text-decoration-color: #008000\">male  </span> │  <span style=\"color: #008080; text-decoration-color: #008080; font-weight: bold\">2007</span> │\n",
       "│ <span style=\"color: #008000; text-decoration-color: #008000\">Adelie </span> │ <span style=\"color: #008000; text-decoration-color: #008000\">Torgersen</span> │           <span style=\"color: #008080; text-decoration-color: #008080; font-weight: bold\">34.1</span> │          <span style=\"color: #008080; text-decoration-color: #008080; font-weight: bold\">18.1</span> │               <span style=\"color: #008080; text-decoration-color: #008080; font-weight: bold\">193</span> │        <span style=\"color: #008080; text-decoration-color: #008080; font-weight: bold\">3475</span> │ <span style=\"color: #7f7f7f; text-decoration-color: #7f7f7f\">NULL</span>   │  <span style=\"color: #008080; text-decoration-color: #008080; font-weight: bold\">2007</span> │\n",
       "│ <span style=\"color: #008000; text-decoration-color: #008000\">Adelie </span> │ <span style=\"color: #008000; text-decoration-color: #008000\">Torgersen</span> │           <span style=\"color: #008080; text-decoration-color: #008080; font-weight: bold\">42.0</span> │          <span style=\"color: #008080; text-decoration-color: #008080; font-weight: bold\">20.2</span> │               <span style=\"color: #008080; text-decoration-color: #008080; font-weight: bold\">190</span> │        <span style=\"color: #008080; text-decoration-color: #008080; font-weight: bold\">4250</span> │ <span style=\"color: #7f7f7f; text-decoration-color: #7f7f7f\">NULL</span>   │  <span style=\"color: #008080; text-decoration-color: #008080; font-weight: bold\">2007</span> │\n",
       "│ <span style=\"color: #7f7f7f; text-decoration-color: #7f7f7f\">…</span>       │ <span style=\"color: #7f7f7f; text-decoration-color: #7f7f7f\">…</span>         │              <span style=\"color: #7f7f7f; text-decoration-color: #7f7f7f\">…</span> │             <span style=\"color: #7f7f7f; text-decoration-color: #7f7f7f\">…</span> │                 <span style=\"color: #7f7f7f; text-decoration-color: #7f7f7f\">…</span> │           <span style=\"color: #7f7f7f; text-decoration-color: #7f7f7f\">…</span> │ <span style=\"color: #7f7f7f; text-decoration-color: #7f7f7f\">…</span>      │     <span style=\"color: #7f7f7f; text-decoration-color: #7f7f7f\">…</span> │\n",
       "└─────────┴───────────┴────────────────┴───────────────┴───────────────────┴─────────────┴────────┴───────┘\n",
       "</pre>\n"
      ],
      "text/plain": [
       "┏━━━━━━━━━┳━━━━━━━━━━━┳━━━━━━━━━━━━━━━━┳━━━━━━━━━━━━━━━┳━━━━━━━━━━━━━━━━━━━┳━━━━━━━━━━━━━┳━━━━━━━━┳━━━━━━━┓\n",
       "┃\u001b[1m \u001b[0m\u001b[1mspecies\u001b[0m\u001b[1m \u001b[0m┃\u001b[1m \u001b[0m\u001b[1misland\u001b[0m\u001b[1m   \u001b[0m\u001b[1m \u001b[0m┃\u001b[1m \u001b[0m\u001b[1mbill_length_mm\u001b[0m\u001b[1m \u001b[0m┃\u001b[1m \u001b[0m\u001b[1mbill_depth_mm\u001b[0m\u001b[1m \u001b[0m┃\u001b[1m \u001b[0m\u001b[1mflipper_length_mm\u001b[0m\u001b[1m \u001b[0m┃\u001b[1m \u001b[0m\u001b[1mbody_mass_g\u001b[0m\u001b[1m \u001b[0m┃\u001b[1m \u001b[0m\u001b[1msex\u001b[0m\u001b[1m   \u001b[0m\u001b[1m \u001b[0m┃\u001b[1m \u001b[0m\u001b[1myear\u001b[0m\u001b[1m \u001b[0m\u001b[1m \u001b[0m┃\n",
       "┡━━━━━━━━━╇━━━━━━━━━━━╇━━━━━━━━━━━━━━━━╇━━━━━━━━━━━━━━━╇━━━━━━━━━━━━━━━━━━━╇━━━━━━━━━━━━━╇━━━━━━━━╇━━━━━━━┩\n",
       "│ \u001b[2mstring\u001b[0m  │ \u001b[2mstring\u001b[0m    │ \u001b[2mfloat64\u001b[0m        │ \u001b[2mfloat64\u001b[0m       │ \u001b[2mint64\u001b[0m             │ \u001b[2mint64\u001b[0m       │ \u001b[2mstring\u001b[0m │ \u001b[2mint64\u001b[0m │\n",
       "├─────────┼───────────┼────────────────┼───────────────┼───────────────────┼─────────────┼────────┼───────┤\n",
       "│ \u001b[32mAdelie \u001b[0m │ \u001b[32mTorgersen\u001b[0m │           \u001b[1;36m39.1\u001b[0m │          \u001b[1;36m18.7\u001b[0m │               \u001b[1;36m181\u001b[0m │        \u001b[1;36m3750\u001b[0m │ \u001b[32mmale  \u001b[0m │  \u001b[1;36m2007\u001b[0m │\n",
       "│ \u001b[32mAdelie \u001b[0m │ \u001b[32mTorgersen\u001b[0m │           \u001b[1;36m39.5\u001b[0m │          \u001b[1;36m17.4\u001b[0m │               \u001b[1;36m186\u001b[0m │        \u001b[1;36m3800\u001b[0m │ \u001b[32mfemale\u001b[0m │  \u001b[1;36m2007\u001b[0m │\n",
       "│ \u001b[32mAdelie \u001b[0m │ \u001b[32mTorgersen\u001b[0m │           \u001b[1;36m40.3\u001b[0m │          \u001b[1;36m18.0\u001b[0m │               \u001b[1;36m195\u001b[0m │        \u001b[1;36m3250\u001b[0m │ \u001b[32mfemale\u001b[0m │  \u001b[1;36m2007\u001b[0m │\n",
       "│ \u001b[32mAdelie \u001b[0m │ \u001b[32mTorgersen\u001b[0m │           \u001b[2mNULL\u001b[0m │          \u001b[2mNULL\u001b[0m │              \u001b[2mNULL\u001b[0m │        \u001b[2mNULL\u001b[0m │ \u001b[2mNULL\u001b[0m   │  \u001b[1;36m2007\u001b[0m │\n",
       "│ \u001b[32mAdelie \u001b[0m │ \u001b[32mTorgersen\u001b[0m │           \u001b[1;36m36.7\u001b[0m │          \u001b[1;36m19.3\u001b[0m │               \u001b[1;36m193\u001b[0m │        \u001b[1;36m3450\u001b[0m │ \u001b[32mfemale\u001b[0m │  \u001b[1;36m2007\u001b[0m │\n",
       "│ \u001b[32mAdelie \u001b[0m │ \u001b[32mTorgersen\u001b[0m │           \u001b[1;36m39.3\u001b[0m │          \u001b[1;36m20.6\u001b[0m │               \u001b[1;36m190\u001b[0m │        \u001b[1;36m3650\u001b[0m │ \u001b[32mmale  \u001b[0m │  \u001b[1;36m2007\u001b[0m │\n",
       "│ \u001b[32mAdelie \u001b[0m │ \u001b[32mTorgersen\u001b[0m │           \u001b[1;36m38.9\u001b[0m │          \u001b[1;36m17.8\u001b[0m │               \u001b[1;36m181\u001b[0m │        \u001b[1;36m3625\u001b[0m │ \u001b[32mfemale\u001b[0m │  \u001b[1;36m2007\u001b[0m │\n",
       "│ \u001b[32mAdelie \u001b[0m │ \u001b[32mTorgersen\u001b[0m │           \u001b[1;36m39.2\u001b[0m │          \u001b[1;36m19.6\u001b[0m │               \u001b[1;36m195\u001b[0m │        \u001b[1;36m4675\u001b[0m │ \u001b[32mmale  \u001b[0m │  \u001b[1;36m2007\u001b[0m │\n",
       "│ \u001b[32mAdelie \u001b[0m │ \u001b[32mTorgersen\u001b[0m │           \u001b[1;36m34.1\u001b[0m │          \u001b[1;36m18.1\u001b[0m │               \u001b[1;36m193\u001b[0m │        \u001b[1;36m3475\u001b[0m │ \u001b[2mNULL\u001b[0m   │  \u001b[1;36m2007\u001b[0m │\n",
       "│ \u001b[32mAdelie \u001b[0m │ \u001b[32mTorgersen\u001b[0m │           \u001b[1;36m42.0\u001b[0m │          \u001b[1;36m20.2\u001b[0m │               \u001b[1;36m190\u001b[0m │        \u001b[1;36m4250\u001b[0m │ \u001b[2mNULL\u001b[0m   │  \u001b[1;36m2007\u001b[0m │\n",
       "│ \u001b[2m…\u001b[0m       │ \u001b[2m…\u001b[0m         │              \u001b[2m…\u001b[0m │             \u001b[2m…\u001b[0m │                 \u001b[2m…\u001b[0m │           \u001b[2m…\u001b[0m │ \u001b[2m…\u001b[0m      │     \u001b[2m…\u001b[0m │\n",
       "└─────────┴───────────┴────────────────┴───────────────┴───────────────────┴─────────────┴────────┴───────┘"
      ]
     },
     "execution_count": 2,
     "metadata": {},
     "output_type": "execute_result"
    }
   ],
   "source": [
    "con.create_table(\n",
    "    \"penguins\", ibis.examples.penguins.fetch().to_pyarrow(), overwrite=True\n",
    ")"
   ]
  },
  {
   "cell_type": "markdown",
   "id": "11c2251b",
   "metadata": {},
   "source": [
    "# Load table"
   ]
  },
  {
   "cell_type": "code",
   "execution_count": 3,
   "id": "a560fc9b",
   "metadata": {},
   "outputs": [],
   "source": [
    "penguins = con.table(\"penguins\")"
   ]
  },
  {
   "cell_type": "code",
   "execution_count": 4,
   "id": "0f17ee9c",
   "metadata": {},
   "outputs": [],
   "source": [
    "penguins_pdf = penguins.execute()"
   ]
  },
  {
   "cell_type": "markdown",
   "id": "ca0b4b4f",
   "metadata": {},
   "source": [
    "# Filter"
   ]
  },
  {
   "cell_type": "code",
   "execution_count": null,
   "id": "f6826eed",
   "metadata": {},
   "outputs": [],
   "source": [
    "penguins.filter(penguins.species == \"Adelie\")"
   ]
  },
  {
   "cell_type": "code",
   "execution_count": null,
   "id": "04da5ff0",
   "metadata": {},
   "outputs": [],
   "source": [
    "penguins_pdf.loc[penguins_pdf.species == \"Adelie\"].head()"
   ]
  },
  {
   "cell_type": "code",
   "execution_count": null,
   "id": "4d43eebe",
   "metadata": {},
   "outputs": [],
   "source": [
    "penguins.filter((penguins.island == \"Torgersen\") & (penguins.species == \"Adelie\"))"
   ]
  },
  {
   "cell_type": "code",
   "execution_count": null,
   "id": "aebea13d",
   "metadata": {},
   "outputs": [],
   "source": [
    "penguins_pdf.loc[\n",
    "    (penguins_pdf.island == \"Torgersen\") & (penguins_pdf.species == \"Adelie\")\n",
    "].head()"
   ]
  },
  {
   "cell_type": "markdown",
   "id": "70f0a24b",
   "metadata": {},
   "source": [
    "# Select"
   ]
  },
  {
   "cell_type": "code",
   "execution_count": null,
   "id": "1e49a468",
   "metadata": {},
   "outputs": [],
   "source": [
    "penguins.select(\"species\", \"island\", \"year\")"
   ]
  },
  {
   "cell_type": "code",
   "execution_count": null,
   "id": "f043e4d5",
   "metadata": {},
   "outputs": [],
   "source": [
    "penguins_pdf[[\"species\", \"island\", \"year\"]].head()"
   ]
  },
  {
   "cell_type": "markdown",
   "id": "413417fc",
   "metadata": {},
   "source": [
    "# Mutate"
   ]
  },
  {
   "cell_type": "code",
   "execution_count": null,
   "id": "4fcf7709",
   "metadata": {},
   "outputs": [],
   "source": [
    "penguins.mutate(\n",
    "    bill_length_cm=penguins.bill_length_mm / 10, continent=ibis.literal(\"Antarctica\")\n",
    ")"
   ]
  },
  {
   "cell_type": "code",
   "execution_count": null,
   "id": "e8a35573",
   "metadata": {},
   "outputs": [],
   "source": [
    "penguins_pdf.assign(\n",
    "    bill_length_cm=penguins_pdf.bill_length_mm / 10, continent=\"Antarctica\"\n",
    ").head()"
   ]
  },
  {
   "cell_type": "markdown",
   "id": "ccf5682d",
   "metadata": {},
   "source": [
    "# Selectors"
   ]
  },
  {
   "cell_type": "code",
   "execution_count": null,
   "id": "f9c613cd",
   "metadata": {},
   "outputs": [],
   "source": [
    "import ibis.selectors as s\n",
    "\n",
    "penguins.mutate(bill_length_cm=penguins.bill_length_mm / 10).select(\n",
    "    ~s.matches(\"bill_length_mm\")\n",
    "    # match every column except `bill_length_mm`\n",
    ")"
   ]
  },
  {
   "cell_type": "code",
   "execution_count": null,
   "id": "df6adeda",
   "metadata": {},
   "outputs": [],
   "source": [
    "penguins_pdf.assign(\n",
    "    bill_length_cm=penguins_pdf.bill_length_mm / 10,\n",
    ")[[col for col in penguins_pdf.columns if col != \"bill_length_mm\"]].head()"
   ]
  },
  {
   "cell_type": "code",
   "execution_count": null,
   "id": "08259938",
   "metadata": {},
   "outputs": [],
   "source": [
    "penguins.select(\"island\", s.numeric())"
   ]
  },
  {
   "cell_type": "code",
   "execution_count": null,
   "id": "4537dfb5",
   "metadata": {},
   "outputs": [],
   "source": [
    "penguins_pdf.select_dtypes(\"number\").head()"
   ]
  },
  {
   "cell_type": "markdown",
   "id": "8b8d4f65",
   "metadata": {},
   "source": [
    "# Order by"
   ]
  },
  {
   "cell_type": "code",
   "execution_count": null,
   "id": "8ed3a805",
   "metadata": {},
   "outputs": [],
   "source": [
    "penguins.order_by(penguins.flipper_length_mm).select(\n",
    "    \"species\", \"island\", \"flipper_length_mm\"\n",
    ")"
   ]
  },
  {
   "cell_type": "code",
   "execution_count": null,
   "id": "99e256d1",
   "metadata": {},
   "outputs": [],
   "source": [
    "penguins_pdf.sort_values([\"flipper_length_mm\"])[\n",
    "    [\"species\", \"island\", \"flipper_length_mm\"]\n",
    "].head()"
   ]
  },
  {
   "cell_type": "markdown",
   "id": "0083e300",
   "metadata": {},
   "source": [
    "# Aggregates"
   ]
  },
  {
   "cell_type": "code",
   "execution_count": null,
   "id": "962f4de1",
   "metadata": {},
   "outputs": [],
   "source": [
    "penguins.flipper_length_mm.mean()"
   ]
  },
  {
   "cell_type": "code",
   "execution_count": null,
   "id": "4e26d73a",
   "metadata": {},
   "outputs": [],
   "source": [
    "penguins_pdf.flipper_length_mm.mean()"
   ]
  },
  {
   "cell_type": "code",
   "execution_count": null,
   "id": "7722e119",
   "metadata": {},
   "outputs": [],
   "source": [
    "penguins.aggregate([penguins.flipper_length_mm.mean(), penguins.bill_depth_mm.max()])"
   ]
  },
  {
   "cell_type": "code",
   "execution_count": null,
   "id": "da4f8cdf",
   "metadata": {},
   "outputs": [],
   "source": [
    "penguins_pdf.aggregate({\"flipper_length_mm\": \"mean\", \"bill_depth_mm\": \"max\"})"
   ]
  },
  {
   "cell_type": "markdown",
   "id": "47b3c42b",
   "metadata": {},
   "source": [
    "# Group by"
   ]
  },
  {
   "cell_type": "code",
   "execution_count": null,
   "id": "ad7e5cd3",
   "metadata": {},
   "outputs": [],
   "source": [
    "penguins.group_by([\"species\", \"island\"]).aggregate(\n",
    "    penguins.bill_length_mm.mean().name(\"mean_bill_length_mm\")\n",
    ")"
   ]
  },
  {
   "cell_type": "code",
   "execution_count": null,
   "id": "c98d6c7b",
   "metadata": {},
   "outputs": [],
   "source": [
    "penguins_pdf.groupby([\"species\", \"island\"]).agg(\n",
    "    mean_bill_length_mm=(\"bill_length_mm\", \"mean\")\n",
    ")"
   ]
  },
  {
   "cell_type": "markdown",
   "id": "169f8c1b",
   "metadata": {},
   "source": [
    "# Compile"
   ]
  },
  {
   "cell_type": "code",
   "execution_count": 31,
   "id": "49f48900",
   "metadata": {},
   "outputs": [],
   "source": [
    "long_expr = (\n",
    "    penguins.filter((penguins.sex == \"female\") & (penguins.year == 2008))\n",
    "    .group_by([\"island\"])\n",
    "    .aggregate(penguins.body_mass_g.max().name(\"max_body_mass_g\"))\n",
    ")"
   ]
  },
  {
   "cell_type": "code",
   "execution_count": 32,
   "id": "62d06d87",
   "metadata": {},
   "outputs": [
    {
     "data": {
      "text/html": [
       "<pre style=\"white-space:pre;overflow-x:auto;line-height:normal;font-family:Menlo,'DejaVu Sans Mono',consolas,'Courier New',monospace\">┏━━━━━━━━━━━┳━━━━━━━━━━━━━━━━━┓\n",
       "┃<span style=\"font-weight: bold\"> island    </span>┃<span style=\"font-weight: bold\"> max_body_mass_g </span>┃\n",
       "┡━━━━━━━━━━━╇━━━━━━━━━━━━━━━━━┩\n",
       "│ <span style=\"color: #7f7f7f; text-decoration-color: #7f7f7f\">string</span>    │ <span style=\"color: #7f7f7f; text-decoration-color: #7f7f7f\">int64</span>           │\n",
       "├───────────┼─────────────────┤\n",
       "│ <span style=\"color: #008000; text-decoration-color: #008000\">Torgersen</span> │            <span style=\"color: #008080; text-decoration-color: #008080; font-weight: bold\">3800</span> │\n",
       "│ <span style=\"color: #008000; text-decoration-color: #008000\">Dream    </span> │            <span style=\"color: #008080; text-decoration-color: #008080; font-weight: bold\">3900</span> │\n",
       "│ <span style=\"color: #008000; text-decoration-color: #008000\">Biscoe   </span> │            <span style=\"color: #008080; text-decoration-color: #008080; font-weight: bold\">5200</span> │\n",
       "└───────────┴─────────────────┘\n",
       "</pre>\n"
      ],
      "text/plain": [
       "┏━━━━━━━━━━━┳━━━━━━━━━━━━━━━━━┓\n",
       "┃\u001b[1m \u001b[0m\u001b[1misland\u001b[0m\u001b[1m   \u001b[0m\u001b[1m \u001b[0m┃\u001b[1m \u001b[0m\u001b[1mmax_body_mass_g\u001b[0m\u001b[1m \u001b[0m┃\n",
       "┡━━━━━━━━━━━╇━━━━━━━━━━━━━━━━━┩\n",
       "│ \u001b[2mstring\u001b[0m    │ \u001b[2mint64\u001b[0m           │\n",
       "├───────────┼─────────────────┤\n",
       "│ \u001b[32mTorgersen\u001b[0m │            \u001b[1;36m3800\u001b[0m │\n",
       "│ \u001b[32mDream    \u001b[0m │            \u001b[1;36m3900\u001b[0m │\n",
       "│ \u001b[32mBiscoe   \u001b[0m │            \u001b[1;36m5200\u001b[0m │\n",
       "└───────────┴─────────────────┘"
      ]
     },
     "execution_count": 32,
     "metadata": {},
     "output_type": "execute_result"
    }
   ],
   "source": [
    "long_expr"
   ]
  },
  {
   "cell_type": "code",
   "execution_count": 33,
   "id": "a468b804",
   "metadata": {},
   "outputs": [
    {
     "data": {
      "text/markdown": [
       "```sql\n",
       "SELECT\n",
       "  `t1`.`island`,\n",
       "  MAX(`t1`.`body_mass_g`) AS `max_body_mass_g`\n",
       "FROM (\n",
       "  SELECT\n",
       "    *\n",
       "  FROM `penguins` AS `t0`\n",
       "  WHERE\n",
       "    `t0`.`sex` = 'female' AND `t0`.`year` = 2008\n",
       ") AS `t1`\n",
       "GROUP BY\n",
       "  1\n",
       "```"
      ],
      "text/plain": [
       "\u001b[34mSELECT\u001b[39;49;00m\u001b[37m\u001b[39;49;00m\n",
       "\u001b[37m  \u001b[39;49;00m`t1`.`island`,\u001b[37m\u001b[39;49;00m\n",
       "\u001b[37m  \u001b[39;49;00m\u001b[34mMAX\u001b[39;49;00m(`t1`.`body_mass_g`)\u001b[37m \u001b[39;49;00m\u001b[34mAS\u001b[39;49;00m\u001b[37m \u001b[39;49;00m`max_body_mass_g`\u001b[37m\u001b[39;49;00m\n",
       "\u001b[34mFROM\u001b[39;49;00m\u001b[37m \u001b[39;49;00m(\u001b[37m\u001b[39;49;00m\n",
       "\u001b[37m  \u001b[39;49;00m\u001b[34mSELECT\u001b[39;49;00m\u001b[37m\u001b[39;49;00m\n",
       "\u001b[37m    \u001b[39;49;00m*\u001b[37m\u001b[39;49;00m\n",
       "\u001b[37m  \u001b[39;49;00m\u001b[34mFROM\u001b[39;49;00m\u001b[37m \u001b[39;49;00m`penguins`\u001b[37m \u001b[39;49;00m\u001b[34mAS\u001b[39;49;00m\u001b[37m \u001b[39;49;00m`t0`\u001b[37m\u001b[39;49;00m\n",
       "\u001b[37m  \u001b[39;49;00m\u001b[34mWHERE\u001b[39;49;00m\u001b[37m\u001b[39;49;00m\n",
       "\u001b[37m    \u001b[39;49;00m`t0`.`sex`\u001b[37m \u001b[39;49;00m=\u001b[37m \u001b[39;49;00m\u001b[33m'female'\u001b[39;49;00m\u001b[37m \u001b[39;49;00m\u001b[34mAND\u001b[39;49;00m\u001b[37m \u001b[39;49;00m`t0`.`\u001b[34myear\u001b[39;49;00m`\u001b[37m \u001b[39;49;00m=\u001b[37m \u001b[39;49;00m\u001b[34m2008\u001b[39;49;00m\u001b[37m\u001b[39;49;00m\n",
       ")\u001b[37m \u001b[39;49;00m\u001b[34mAS\u001b[39;49;00m\u001b[37m \u001b[39;49;00m`t1`\u001b[37m\u001b[39;49;00m\n",
       "\u001b[34mGROUP\u001b[39;49;00m\u001b[37m \u001b[39;49;00m\u001b[34mBY\u001b[39;49;00m\u001b[37m\u001b[39;49;00m\n",
       "\u001b[37m  \u001b[39;49;00m\u001b[34m1\u001b[39;49;00m\u001b[37m\u001b[39;49;00m"
      ]
     },
     "execution_count": 33,
     "metadata": {},
     "output_type": "execute_result"
    }
   ],
   "source": [
    "long_expr.to_sql(dialect=\"impala\")"
   ]
  },
  {
   "cell_type": "code",
   "execution_count": 34,
   "id": "09dfbbd7",
   "metadata": {},
   "outputs": [
    {
     "data": {
      "text/markdown": [
       "```sql\n",
       "SELECT\n",
       "  \"t1\".\"island\",\n",
       "  MAX(\"t1\".\"body_mass_g\") AS \"max_body_mass_g\"\n",
       "FROM (\n",
       "  SELECT\n",
       "    *\n",
       "  FROM \"penguins\" AS \"t0\"\n",
       "  WHERE\n",
       "    \"t0\".\"sex\" = 'female' AND \"t0\".\"year\" = 2008\n",
       ") AS \"t1\"\n",
       "GROUP BY\n",
       "  1\n",
       "```"
      ],
      "text/plain": [
       "\u001b[34mSELECT\u001b[39;49;00m\u001b[37m\u001b[39;49;00m\n",
       "\u001b[37m  \u001b[39;49;00m\u001b[33m\"t1\"\u001b[39;49;00m.\u001b[33m\"island\"\u001b[39;49;00m,\u001b[37m\u001b[39;49;00m\n",
       "\u001b[37m  \u001b[39;49;00m\u001b[34mMAX\u001b[39;49;00m(\u001b[33m\"t1\"\u001b[39;49;00m.\u001b[33m\"body_mass_g\"\u001b[39;49;00m)\u001b[37m \u001b[39;49;00m\u001b[34mAS\u001b[39;49;00m\u001b[37m \u001b[39;49;00m\u001b[33m\"max_body_mass_g\"\u001b[39;49;00m\u001b[37m\u001b[39;49;00m\n",
       "\u001b[34mFROM\u001b[39;49;00m\u001b[37m \u001b[39;49;00m(\u001b[37m\u001b[39;49;00m\n",
       "\u001b[37m  \u001b[39;49;00m\u001b[34mSELECT\u001b[39;49;00m\u001b[37m\u001b[39;49;00m\n",
       "\u001b[37m    \u001b[39;49;00m*\u001b[37m\u001b[39;49;00m\n",
       "\u001b[37m  \u001b[39;49;00m\u001b[34mFROM\u001b[39;49;00m\u001b[37m \u001b[39;49;00m\u001b[33m\"penguins\"\u001b[39;49;00m\u001b[37m \u001b[39;49;00m\u001b[34mAS\u001b[39;49;00m\u001b[37m \u001b[39;49;00m\u001b[33m\"t0\"\u001b[39;49;00m\u001b[37m\u001b[39;49;00m\n",
       "\u001b[37m  \u001b[39;49;00m\u001b[34mWHERE\u001b[39;49;00m\u001b[37m\u001b[39;49;00m\n",
       "\u001b[37m    \u001b[39;49;00m\u001b[33m\"t0\"\u001b[39;49;00m.\u001b[33m\"sex\"\u001b[39;49;00m\u001b[37m \u001b[39;49;00m=\u001b[37m \u001b[39;49;00m\u001b[33m'female'\u001b[39;49;00m\u001b[37m \u001b[39;49;00m\u001b[34mAND\u001b[39;49;00m\u001b[37m \u001b[39;49;00m\u001b[33m\"t0\"\u001b[39;49;00m.\u001b[33m\"year\"\u001b[39;49;00m\u001b[37m \u001b[39;49;00m=\u001b[37m \u001b[39;49;00m\u001b[34m2008\u001b[39;49;00m\u001b[37m\u001b[39;49;00m\n",
       ")\u001b[37m \u001b[39;49;00m\u001b[34mAS\u001b[39;49;00m\u001b[37m \u001b[39;49;00m\u001b[33m\"t1\"\u001b[39;49;00m\u001b[37m\u001b[39;49;00m\n",
       "\u001b[34mGROUP\u001b[39;49;00m\u001b[37m \u001b[39;49;00m\u001b[34mBY\u001b[39;49;00m\u001b[37m\u001b[39;49;00m\n",
       "\u001b[37m  \u001b[39;49;00m\u001b[34m1\u001b[39;49;00m\u001b[37m\u001b[39;49;00m"
      ]
     },
     "execution_count": 34,
     "metadata": {},
     "output_type": "execute_result"
    }
   ],
   "source": [
    "long_expr.to_sql(dialect=\"athena\")"
   ]
  },
  {
   "cell_type": "markdown",
   "id": "7650f571",
   "metadata": {},
   "source": [
    "# Raw SQL"
   ]
  },
  {
   "cell_type": "code",
   "execution_count": null,
   "id": "389026bc",
   "metadata": {},
   "outputs": [
    {
     "data": {
      "text/html": [
       "<pre style=\"white-space:pre;overflow-x:auto;line-height:normal;font-family:Menlo,'DejaVu Sans Mono',consolas,'Courier New',monospace\">┏━━━━━━━━━━━┳━━━━━━━━━━━━━━━━━┓\n",
       "┃<span style=\"font-weight: bold\"> island    </span>┃<span style=\"font-weight: bold\"> avg_bill_length </span>┃\n",
       "┡━━━━━━━━━━━╇━━━━━━━━━━━━━━━━━┩\n",
       "│ <span style=\"color: #7f7f7f; text-decoration-color: #7f7f7f\">string</span>    │ <span style=\"color: #7f7f7f; text-decoration-color: #7f7f7f\">float64</span>         │\n",
       "├───────────┼─────────────────┤\n",
       "│ <span style=\"color: #008000; text-decoration-color: #008000\">Biscoe   </span> │       <span style=\"color: #008080; text-decoration-color: #008080; font-weight: bold\">45.257485</span> │\n",
       "│ <span style=\"color: #008000; text-decoration-color: #008000\">Dream    </span> │       <span style=\"color: #008080; text-decoration-color: #008080; font-weight: bold\">44.167742</span> │\n",
       "│ <span style=\"color: #008000; text-decoration-color: #008000\">Torgersen</span> │       <span style=\"color: #008080; text-decoration-color: #008080; font-weight: bold\">38.950980</span> │\n",
       "└───────────┴─────────────────┘\n",
       "</pre>\n"
      ],
      "text/plain": [
       "┏━━━━━━━━━━━┳━━━━━━━━━━━━━━━━━┓\n",
       "┃\u001b[1m \u001b[0m\u001b[1misland\u001b[0m\u001b[1m   \u001b[0m\u001b[1m \u001b[0m┃\u001b[1m \u001b[0m\u001b[1mavg_bill_length\u001b[0m\u001b[1m \u001b[0m┃\n",
       "┡━━━━━━━━━━━╇━━━━━━━━━━━━━━━━━┩\n",
       "│ \u001b[2mstring\u001b[0m    │ \u001b[2mfloat64\u001b[0m         │\n",
       "├───────────┼─────────────────┤\n",
       "│ \u001b[32mBiscoe   \u001b[0m │       \u001b[1;36m45.257485\u001b[0m │\n",
       "│ \u001b[32mDream    \u001b[0m │       \u001b[1;36m44.167742\u001b[0m │\n",
       "│ \u001b[32mTorgersen\u001b[0m │       \u001b[1;36m38.950980\u001b[0m │\n",
       "└───────────┴─────────────────┘"
      ]
     },
     "execution_count": 35,
     "metadata": {},
     "output_type": "execute_result"
    }
   ],
   "source": [
    "# penguins table need to exist\n",
    "\n",
    "penguins.sql(\n",
    "    \"\"\"  \n",
    "SELECT island, mean(bill_length_mm) AS avg_bill_length  \n",
    "FROM penguins  \n",
    "GROUP BY 1  \n",
    "ORDER BY 2 DESC  \n",
    "\"\"\"\n",
    ")"
   ]
  },
  {
   "cell_type": "code",
   "execution_count": 38,
   "id": "c8e0e16e",
   "metadata": {},
   "outputs": [
    {
     "data": {
      "text/html": [
       "<pre style=\"white-space:pre;overflow-x:auto;line-height:normal;font-family:Menlo,'DejaVu Sans Mono',consolas,'Courier New',monospace\">┏━━━━━━━━━━━┳━━━━━━━━━━━━━━━━━┓\n",
       "┃<span style=\"font-weight: bold\"> island    </span>┃<span style=\"font-weight: bold\"> max_body_mass_g </span>┃\n",
       "┡━━━━━━━━━━━╇━━━━━━━━━━━━━━━━━┩\n",
       "│ <span style=\"color: #7f7f7f; text-decoration-color: #7f7f7f\">string</span>    │ <span style=\"color: #7f7f7f; text-decoration-color: #7f7f7f\">int64</span>           │\n",
       "├───────────┼─────────────────┤\n",
       "│ <span style=\"color: #008000; text-decoration-color: #008000\">Biscoe   </span> │            <span style=\"color: #008080; text-decoration-color: #008080; font-weight: bold\">5200</span> │\n",
       "│ <span style=\"color: #008000; text-decoration-color: #008000\">Torgersen</span> │            <span style=\"color: #008080; text-decoration-color: #008080; font-weight: bold\">3800</span> │\n",
       "│ <span style=\"color: #008000; text-decoration-color: #008000\">Dream    </span> │            <span style=\"color: #008080; text-decoration-color: #008080; font-weight: bold\">3900</span> │\n",
       "└───────────┴─────────────────┘\n",
       "</pre>\n"
      ],
      "text/plain": [
       "┏━━━━━━━━━━━┳━━━━━━━━━━━━━━━━━┓\n",
       "┃\u001b[1m \u001b[0m\u001b[1misland\u001b[0m\u001b[1m   \u001b[0m\u001b[1m \u001b[0m┃\u001b[1m \u001b[0m\u001b[1mmax_body_mass_g\u001b[0m\u001b[1m \u001b[0m┃\n",
       "┡━━━━━━━━━━━╇━━━━━━━━━━━━━━━━━┩\n",
       "│ \u001b[2mstring\u001b[0m    │ \u001b[2mint64\u001b[0m           │\n",
       "├───────────┼─────────────────┤\n",
       "│ \u001b[32mBiscoe   \u001b[0m │            \u001b[1;36m5200\u001b[0m │\n",
       "│ \u001b[32mTorgersen\u001b[0m │            \u001b[1;36m3800\u001b[0m │\n",
       "│ \u001b[32mDream    \u001b[0m │            \u001b[1;36m3900\u001b[0m │\n",
       "└───────────┴─────────────────┘"
      ]
     },
     "execution_count": 38,
     "metadata": {},
     "output_type": "execute_result"
    }
   ],
   "source": [
    "long_expr"
   ]
  },
  {
   "cell_type": "code",
   "execution_count": 40,
   "id": "e6cff91f",
   "metadata": {},
   "outputs": [],
   "source": [
    "# throws error since long_expr is not a table in the database\n",
    "\n",
    "# long_expr.sql(\n",
    "#     \"\"\"\n",
    "# SELECT *\n",
    "# FROM long_expr\n",
    "# WHERE island = 'Torgersen'\n",
    "# \"\"\"\n",
    "# )"
   ]
  },
  {
   "cell_type": "code",
   "execution_count": 45,
   "id": "041f1925",
   "metadata": {},
   "outputs": [
    {
     "data": {
      "text/html": [
       "<pre style=\"white-space:pre;overflow-x:auto;line-height:normal;font-family:Menlo,'DejaVu Sans Mono',consolas,'Courier New',monospace\">┏━━━━━━━━━━━┳━━━━━━━━━━━━━━━━━┓\n",
       "┃<span style=\"font-weight: bold\"> island    </span>┃<span style=\"font-weight: bold\"> max_body_mass_g </span>┃\n",
       "┡━━━━━━━━━━━╇━━━━━━━━━━━━━━━━━┩\n",
       "│ <span style=\"color: #7f7f7f; text-decoration-color: #7f7f7f\">string</span>    │ <span style=\"color: #7f7f7f; text-decoration-color: #7f7f7f\">int64</span>           │\n",
       "├───────────┼─────────────────┤\n",
       "│ <span style=\"color: #008000; text-decoration-color: #008000\">Torgersen</span> │            <span style=\"color: #008080; text-decoration-color: #008080; font-weight: bold\">3800</span> │\n",
       "└───────────┴─────────────────┘\n",
       "</pre>\n"
      ],
      "text/plain": [
       "┏━━━━━━━━━━━┳━━━━━━━━━━━━━━━━━┓\n",
       "┃\u001b[1m \u001b[0m\u001b[1misland\u001b[0m\u001b[1m   \u001b[0m\u001b[1m \u001b[0m┃\u001b[1m \u001b[0m\u001b[1mmax_body_mass_g\u001b[0m\u001b[1m \u001b[0m┃\n",
       "┡━━━━━━━━━━━╇━━━━━━━━━━━━━━━━━┩\n",
       "│ \u001b[2mstring\u001b[0m    │ \u001b[2mint64\u001b[0m           │\n",
       "├───────────┼─────────────────┤\n",
       "│ \u001b[32mTorgersen\u001b[0m │            \u001b[1;36m3800\u001b[0m │\n",
       "└───────────┴─────────────────┘"
      ]
     },
     "execution_count": 45,
     "metadata": {},
     "output_type": "execute_result"
    }
   ],
   "source": [
    "con.sql(\n",
    "    f\"\"\"\n",
    "SELECT *\n",
    "FROM ({long_expr.to_sql()}) \n",
    "WHERE island = 'Torgersen'\n",
    "\"\"\"\n",
    ")"
   ]
  },
  {
   "cell_type": "code",
   "execution_count": 46,
   "id": "5bc7e067",
   "metadata": {},
   "outputs": [
    {
     "data": {
      "text/html": [
       "<pre style=\"white-space:pre;overflow-x:auto;line-height:normal;font-family:Menlo,'DejaVu Sans Mono',consolas,'Courier New',monospace\">┏━━━━━━━━━━━┳━━━━━━━━━━━━━━━━━┓\n",
       "┃<span style=\"font-weight: bold\"> island    </span>┃<span style=\"font-weight: bold\"> max_body_mass_g </span>┃\n",
       "┡━━━━━━━━━━━╇━━━━━━━━━━━━━━━━━┩\n",
       "│ <span style=\"color: #7f7f7f; text-decoration-color: #7f7f7f\">string</span>    │ <span style=\"color: #7f7f7f; text-decoration-color: #7f7f7f\">int64</span>           │\n",
       "├───────────┼─────────────────┤\n",
       "│ <span style=\"color: #008000; text-decoration-color: #008000\">Torgersen</span> │            <span style=\"color: #008080; text-decoration-color: #008080; font-weight: bold\">3800</span> │\n",
       "└───────────┴─────────────────┘\n",
       "</pre>\n"
      ],
      "text/plain": [
       "┏━━━━━━━━━━━┳━━━━━━━━━━━━━━━━━┓\n",
       "┃\u001b[1m \u001b[0m\u001b[1misland\u001b[0m\u001b[1m   \u001b[0m\u001b[1m \u001b[0m┃\u001b[1m \u001b[0m\u001b[1mmax_body_mass_g\u001b[0m\u001b[1m \u001b[0m┃\n",
       "┡━━━━━━━━━━━╇━━━━━━━━━━━━━━━━━┩\n",
       "│ \u001b[2mstring\u001b[0m    │ \u001b[2mint64\u001b[0m           │\n",
       "├───────────┼─────────────────┤\n",
       "│ \u001b[32mTorgersen\u001b[0m │            \u001b[1;36m3800\u001b[0m │\n",
       "└───────────┴─────────────────┘"
      ]
     },
     "execution_count": 46,
     "metadata": {},
     "output_type": "execute_result"
    }
   ],
   "source": [
    "long_expr.sql(\n",
    "    f\"\"\"\n",
    "SELECT *\n",
    "FROM ({long_expr.to_sql()}) \n",
    "WHERE island = 'Torgersen'\n",
    "\"\"\"\n",
    ")"
   ]
  },
  {
   "cell_type": "code",
   "execution_count": 48,
   "id": "ef81d814",
   "metadata": {},
   "outputs": [
    {
     "data": {
      "text/html": [
       "<pre style=\"white-space:pre;overflow-x:auto;line-height:normal;font-family:Menlo,'DejaVu Sans Mono',consolas,'Courier New',monospace\">┏━━━━━━━━━━━┳━━━━━━━━━━━━━━━━━┓\n",
       "┃<span style=\"font-weight: bold\"> island    </span>┃<span style=\"font-weight: bold\"> avg_bill_length </span>┃\n",
       "┡━━━━━━━━━━━╇━━━━━━━━━━━━━━━━━┩\n",
       "│ <span style=\"color: #7f7f7f; text-decoration-color: #7f7f7f\">string</span>    │ <span style=\"color: #7f7f7f; text-decoration-color: #7f7f7f\">float64</span>         │\n",
       "├───────────┼─────────────────┤\n",
       "│ <span style=\"color: #008000; text-decoration-color: #008000\">Biscoe   </span> │       <span style=\"color: #008080; text-decoration-color: #008080; font-weight: bold\">45.257485</span> │\n",
       "│ <span style=\"color: #008000; text-decoration-color: #008000\">Dream    </span> │       <span style=\"color: #008080; text-decoration-color: #008080; font-weight: bold\">44.167742</span> │\n",
       "│ <span style=\"color: #008000; text-decoration-color: #008000\">Torgersen</span> │       <span style=\"color: #008080; text-decoration-color: #008080; font-weight: bold\">38.950980</span> │\n",
       "└───────────┴─────────────────┘\n",
       "</pre>\n"
      ],
      "text/plain": [
       "┏━━━━━━━━━━━┳━━━━━━━━━━━━━━━━━┓\n",
       "┃\u001b[1m \u001b[0m\u001b[1misland\u001b[0m\u001b[1m   \u001b[0m\u001b[1m \u001b[0m┃\u001b[1m \u001b[0m\u001b[1mavg_bill_length\u001b[0m\u001b[1m \u001b[0m┃\n",
       "┡━━━━━━━━━━━╇━━━━━━━━━━━━━━━━━┩\n",
       "│ \u001b[2mstring\u001b[0m    │ \u001b[2mfloat64\u001b[0m         │\n",
       "├───────────┼─────────────────┤\n",
       "│ \u001b[32mBiscoe   \u001b[0m │       \u001b[1;36m45.257485\u001b[0m │\n",
       "│ \u001b[32mDream    \u001b[0m │       \u001b[1;36m44.167742\u001b[0m │\n",
       "│ \u001b[32mTorgersen\u001b[0m │       \u001b[1;36m38.950980\u001b[0m │\n",
       "└───────────┴─────────────────┘"
      ]
     },
     "execution_count": 48,
     "metadata": {},
     "output_type": "execute_result"
    }
   ],
   "source": [
    "con.sql(\n",
    "    f\"\"\"  \n",
    "SELECT island, mean(bill_length_mm) AS avg_bill_length  \n",
    "FROM ({penguins.to_sql()})  \n",
    "GROUP BY 1  \n",
    "ORDER BY 2 DESC  \n",
    "\"\"\"\n",
    ")"
   ]
  }
 ],
 "metadata": {
  "kernelspec": {
   "display_name": ".venv",
   "language": "python",
   "name": "python3"
  },
  "language_info": {
   "codemirror_mode": {
    "name": "ipython",
    "version": 3
   },
   "file_extension": ".py",
   "mimetype": "text/x-python",
   "name": "python",
   "nbconvert_exporter": "python",
   "pygments_lexer": "ipython3",
   "version": "3.12.7"
  }
 },
 "nbformat": 4,
 "nbformat_minor": 5
}
