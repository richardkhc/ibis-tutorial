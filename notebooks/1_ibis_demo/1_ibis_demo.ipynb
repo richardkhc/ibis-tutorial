{
 "cells": [
  {
   "cell_type": "code",
   "execution_count": null,
   "id": "9abfa4ff",
   "metadata": {},
   "outputs": [],
   "source": [
    "import ibis\n",
    "\n",
    "con = ibis.connect(\"duckdb://penguins.ddb\")\n",
    "\n",
    "ibis.options.interactive = True\n",
    "\n"
   ]
  },
  {
   "cell_type": "markdown",
   "id": "13f589b5",
   "metadata": {},
   "source": [
    "# Create table"
   ]
  },
  {
   "cell_type": "code",
   "execution_count": null,
   "id": "10994f62",
   "metadata": {},
   "outputs": [],
   "source": [
    "\n",
    "con.create_table(\n",
    "    \"penguins\", ibis.examples.penguins.fetch().to_pyarrow(), overwrite=True\n",
    ")"
   ]
  },
  {
   "cell_type": "markdown",
   "id": "11c2251b",
   "metadata": {},
   "source": [
    "# Load table"
   ]
  },
  {
   "cell_type": "code",
   "execution_count": null,
   "id": "a560fc9b",
   "metadata": {},
   "outputs": [],
   "source": [
    "penguins = con.table(\"penguins\")"
   ]
  },
  {
   "cell_type": "code",
   "execution_count": null,
   "id": "0f17ee9c",
   "metadata": {},
   "outputs": [],
   "source": [
    "penguins_pdf = penguins.execute()"
   ]
  },
  {
   "cell_type": "markdown",
   "id": "ca0b4b4f",
   "metadata": {},
   "source": [
    "# Filter"
   ]
  },
  {
   "cell_type": "code",
   "execution_count": null,
   "id": "f6826eed",
   "metadata": {},
   "outputs": [],
   "source": [
    "penguins.filter(penguins.species == \"Adelie\")"
   ]
  },
  {
   "cell_type": "code",
   "execution_count": null,
   "id": "04da5ff0",
   "metadata": {},
   "outputs": [],
   "source": [
    "penguins_pdf.loc[\n",
    "    penguins_pdf.species == \"Adelie\"\n",
    "].head()"
   ]
  },
  {
   "cell_type": "code",
   "execution_count": null,
   "id": "4d43eebe",
   "metadata": {},
   "outputs": [],
   "source": [
    "penguins.filter((penguins.island == \"Torgersen\") & (penguins.species == \"Adelie\"))"
   ]
  },
  {
   "cell_type": "code",
   "execution_count": null,
   "id": "aebea13d",
   "metadata": {},
   "outputs": [],
   "source": [
    "penguins_pdf.loc[\n",
    "    (penguins_pdf.island == \"Torgersen\") & (penguins_pdf.species == \"Adelie\")\n",
    "].head()"
   ]
  },
  {
   "cell_type": "markdown",
   "id": "70f0a24b",
   "metadata": {},
   "source": [
    "# Select"
   ]
  },
  {
   "cell_type": "code",
   "execution_count": null,
   "id": "1e49a468",
   "metadata": {},
   "outputs": [],
   "source": [
    "penguins.select(\"species\", \"island\", \"year\")\n"
   ]
  },
  {
   "cell_type": "code",
   "execution_count": null,
   "id": "f043e4d5",
   "metadata": {},
   "outputs": [],
   "source": [
    "penguins_pdf[[\"species\", \"island\", \"year\"]].head()"
   ]
  },
  {
   "cell_type": "markdown",
   "id": "413417fc",
   "metadata": {},
   "source": [
    "# Mutate"
   ]
  },
  {
   "cell_type": "code",
   "execution_count": null,
   "id": "4fcf7709",
   "metadata": {},
   "outputs": [],
   "source": [
    "penguins.mutate(\n",
    "    bill_length_cm=penguins.bill_length_mm / 10,\n",
    "    continent=ibis.literal(\"Antarctica\")\n",
    ")"
   ]
  },
  {
   "cell_type": "code",
   "execution_count": null,
   "id": "e8a35573",
   "metadata": {},
   "outputs": [],
   "source": [
    "penguins_pdf.assign(\n",
    "    bill_length_cm=penguins_pdf.bill_length_mm / 10,\n",
    "    continent=\"Antarctica\"\n",
    ").head()"
   ]
  },
  {
   "cell_type": "markdown",
   "id": "ccf5682d",
   "metadata": {},
   "source": [
    "# Selectors"
   ]
  },
  {
   "cell_type": "code",
   "execution_count": null,
   "id": "f9c613cd",
   "metadata": {},
   "outputs": [],
   "source": [
    "import ibis.selectors as s\n",
    "\n",
    "penguins.mutate(bill_length_cm=penguins.bill_length_mm / 10).select(\n",
    "    ~s.matches(\"bill_length_mm\")\n",
    "    # match every column except `bill_length_mm`\n",
    ")"
   ]
  },
  {
   "cell_type": "code",
   "execution_count": null,
   "id": "df6adeda",
   "metadata": {},
   "outputs": [],
   "source": [
    "penguins_pdf.assign(\n",
    "    bill_length_cm=penguins_pdf.bill_length_mm / 10,\n",
    ")[[col for col in penguins_pdf.columns if col != \"bill_length_mm\"]].head()"
   ]
  },
  {
   "cell_type": "code",
   "execution_count": null,
   "id": "08259938",
   "metadata": {},
   "outputs": [],
   "source": [
    "penguins.select(\"island\", s.numeric())\n"
   ]
  },
  {
   "cell_type": "code",
   "execution_count": null,
   "id": "4537dfb5",
   "metadata": {},
   "outputs": [],
   "source": [
    "penguins_pdf.select_dtypes(\"number\").head()"
   ]
  },
  {
   "cell_type": "markdown",
   "id": "8b8d4f65",
   "metadata": {},
   "source": [
    "# Order by"
   ]
  },
  {
   "cell_type": "code",
   "execution_count": null,
   "id": "8ed3a805",
   "metadata": {},
   "outputs": [],
   "source": [
    "penguins.order_by(penguins.flipper_length_mm).select(\n",
    "    \"species\", \"island\", \"flipper_length_mm\"\n",
    ")"
   ]
  },
  {
   "cell_type": "code",
   "execution_count": null,
   "id": "99e256d1",
   "metadata": {},
   "outputs": [],
   "source": [
    "penguins_pdf.sort_values([\"flipper_length_mm\"])[[\"species\", \"island\", \"flipper_length_mm\"]].head()"
   ]
  },
  {
   "cell_type": "markdown",
   "id": "0083e300",
   "metadata": {},
   "source": [
    "# Aggregates"
   ]
  },
  {
   "cell_type": "code",
   "execution_count": null,
   "id": "962f4de1",
   "metadata": {},
   "outputs": [],
   "source": [
    "penguins.flipper_length_mm.mean()\n"
   ]
  },
  {
   "cell_type": "code",
   "execution_count": null,
   "id": "4e26d73a",
   "metadata": {},
   "outputs": [],
   "source": [
    "penguins_pdf.flipper_length_mm.mean()"
   ]
  },
  {
   "cell_type": "code",
   "execution_count": null,
   "id": "7722e119",
   "metadata": {},
   "outputs": [],
   "source": [
    "penguins.aggregate([penguins.flipper_length_mm.mean(), penguins.bill_depth_mm.max()])"
   ]
  },
  {
   "cell_type": "code",
   "execution_count": null,
   "id": "da4f8cdf",
   "metadata": {},
   "outputs": [],
   "source": [
    "penguins_pdf.aggregate(\n",
    "    {\"flipper_length_mm\": \"mean\", \"bill_depth_mm\": \"max\"}\n",
    ")"
   ]
  },
  {
   "cell_type": "markdown",
   "id": "47b3c42b",
   "metadata": {},
   "source": [
    "# Group by"
   ]
  },
  {
   "cell_type": "code",
   "execution_count": null,
   "id": "ad7e5cd3",
   "metadata": {},
   "outputs": [],
   "source": [
    "penguins.group_by([\"species\", \"island\"]).aggregate(penguins.bill_length_mm.mean().name(\"mean_bill_length_mm\"))"
   ]
  },
  {
   "cell_type": "code",
   "execution_count": null,
   "id": "c98d6c7b",
   "metadata": {},
   "outputs": [],
   "source": [
    "penguins_pdf.groupby([\"species\", \"island\"]).agg(mean_bill_length_mm=(\"bill_length_mm\", \"mean\"))"
   ]
  }
 ],
 "metadata": {
  "kernelspec": {
   "display_name": ".venv",
   "language": "python",
   "name": "python3"
  },
  "language_info": {
   "codemirror_mode": {
    "name": "ipython",
    "version": 3
   },
   "file_extension": ".py",
   "mimetype": "text/x-python",
   "name": "python",
   "nbconvert_exporter": "python",
   "pygments_lexer": "ipython3",
   "version": "3.12.7"
  }
 },
 "nbformat": 4,
 "nbformat_minor": 5
}
